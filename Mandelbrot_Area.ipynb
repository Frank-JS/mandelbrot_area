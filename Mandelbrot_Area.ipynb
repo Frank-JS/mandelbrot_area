{
 "cells": [
  {
   "cell_type": "code",
   "execution_count": 9,
   "metadata": {
    "collapsed": false
   },
   "outputs": [],
   "source": [
    "import random"
   ]
  },
  {
   "cell_type": "markdown",
   "metadata": {},
   "source": [
    "### Main Cardioid\n",
    "\n",
    "Upon looking at a picture of the Mandelbrot set, one immediately notices the large cardioid-shaped region in the center. This main cardioid is the region of parameters  ${\\displaystyle c}$  for which ${\\displaystyle P_{c}}$ has an attracting fixed point. It consists of all parameters of the form\n",
    "\n",
    "  $$  {\\displaystyle c={\\frac {\\mu }{2}}\\left(1-{\\frac {\\mu }{2}}\\right)}  $$\n",
    "\n",
    "for some $\\mu$ in the open unit disk.\n",
    "\n",
    "The condition for the main cardioid can be rewritten:\n",
    "\n",
    "$$ 2c = \\mu - 0.5 \\mu^{2}  $$\n",
    "$$ \\mu^{2} - 2 \\mu + 4 c = 0  $$\n",
    "\n",
    "with solutions for $\\mu$:\n",
    "$$ \\mu_{1} = 1 + \\sqrt{1-4c} $$\n",
    "$$ \\mu_{2} = 1 - \\sqrt{1-4c}  $$\n",
    "\n",
    "Therefore, $c$ lies withn the main bulb if $\\Vert\\mu_{1}\\Vert<1$ or $\\Vert\\mu_{2}\\Vert<1$\n",
    "\n",
    "\n",
    "### Circular Bulb \n",
    "\n",
    "To the left of the main cardioid, attached to it at the point $c=-3/4$, a circular-shaped bulb is visible. This bulb consists of those $c$  for which $P_{c}$ has an attracting cycle of period 2. This set of parameters is an actual circle, namely that of radius 1/4 around −1. \n",
    "\n",
    "This translates in a simple condition:\n",
    "$$ {\\displaystyle \\Vert c+1 \\Vert < 0.25 } $$"
   ]
  },
  {
   "cell_type": "code",
   "execution_count": 61,
   "metadata": {
    "collapsed": false
   },
   "outputs": [],
   "source": [
    "def is_mandelbrot(c, N_iter):\n",
    "    \"\"\"gets a complex number c and the maximum of iterations iter_max\n",
    "    returns True if c is within Mandelbrot Set\"\"\"\n",
    "    # test if point lies within circukar bulb\n",
    "    if abs(c+1) < 0.25:\n",
    "        return True\n",
    "    # test if point lies within main bulb\n",
    "    D = (1-4*c)**0.5\n",
    "    if abs(1+D) < 1:\n",
    "        return True\n",
    "    if abs(1-D) < 1:\n",
    "        return True\n",
    "    # standard mandelbrot test with iteration of z = z**2 +c\n",
    "    z = complex(0,0)\n",
    "    for iteration in range(N_iter):\n",
    "        z = z**2+c\n",
    "        if abs(z) >= 2:\n",
    "            return False\n",
    "    return True"
   ]
  },
  {
   "cell_type": "code",
   "execution_count": 44,
   "metadata": {
    "collapsed": false
   },
   "outputs": [
    {
     "name": "stdout",
     "output_type": "stream",
     "text": [
      "True\n",
      "False\n",
      "True\n",
      "True\n",
      "100000 loops, best of 3: 4.94 µs per loop\n",
      "1000000 loops, best of 3: 1.6 µs per loop\n",
      "1000 loops, best of 3: 909 µs per loop\n"
     ]
    }
   ],
   "source": [
    "print(is_mandelbrot(complex(0,0), 100))\n",
    "print(is_mandelbrot(complex(2,0), 100))\n",
    "print(is_mandelbrot(complex(0,0.5), 100))\n",
    "print(is_mandelbrot(complex(-1.5,0), 100))\n",
    "# Test point in main bulb\n",
    "%timeit is_mandelbrot(complex(0,0.5), 1000)\n",
    "# Test point in circular bulb\n",
    "%timeit is_mandelbrot(complex(-1,0), 1000)\n",
    "# Test point outside main bulb and first minor bulb\n",
    "%timeit is_mandelbrot(complex(-1.5,0), 1000)"
   ]
  },
  {
   "cell_type": "code",
   "execution_count": 62,
   "metadata": {
    "collapsed": true
   },
   "outputs": [],
   "source": [
    "def random_point():\n",
    "    \"\"\"returns random point\n",
    "            real part between -2 and 1\n",
    "            imaginary part between -1 and 1\n",
    "        area of this range: 3 * 2 = 6 \"\"\"\n",
    "    real_part = random.random()*3 - 2\n",
    "    im_part = random.random()*2 - 1\n",
    "    return complex(real_part, im_part)"
   ]
  },
  {
   "cell_type": "code",
   "execution_count": 71,
   "metadata": {
    "collapsed": false
   },
   "outputs": [
    {
     "data": {
      "text/plain": [
       "(0.750400137002817-0.975427995833988j)"
      ]
     },
     "execution_count": 71,
     "metadata": {},
     "output_type": "execute_result"
    }
   ],
   "source": [
    "random_point()"
   ]
  },
  {
   "cell_type": "code",
   "execution_count": 65,
   "metadata": {
    "collapsed": true
   },
   "outputs": [],
   "source": [
    "def single_run(N_point, N_iter):\n",
    "    \"\"\"Counts how many of N_point random points lie within mandelbrot set\n",
    "    returns estimated area of mandelbrot set with N_point\"\"\"\n",
    "    N_point_inside = 0\n",
    "    for n in range(N_point):\n",
    "        if is_mandelbrot(random_point(), N_iter):\n",
    "            N_point_inside +=1\n",
    "    return 6 * N_point_inside/N_point\n",
    "           "
   ]
  },
  {
   "cell_type": "code",
   "execution_count": 66,
   "metadata": {
    "collapsed": false
   },
   "outputs": [
    {
     "data": {
      "text/plain": [
       "1.55082"
      ]
     },
     "execution_count": 66,
     "metadata": {},
     "output_type": "execute_result"
    }
   ],
   "source": [
    "single_run(100000, 100)"
   ]
  },
  {
   "cell_type": "code",
   "execution_count": null,
   "metadata": {
    "collapsed": true
   },
   "outputs": [],
   "source": [
    "def multiple_run(N_run, N_point, N_iter):\n",
    "    \"\"\"gets: \n",
    "        N_run: Number of ingle runs\n",
    "        N_points: Number of points for Monte Carlo test\n",
    "        N_iter: maximal number of iterations\n",
    "            \"\"\""
   ]
  }
 ],
 "metadata": {
  "anaconda-cloud": {},
  "kernelspec": {
   "display_name": "Python [default]",
   "language": "python",
   "name": "python3"
  },
  "language_info": {
   "codemirror_mode": {
    "name": "ipython",
    "version": 3
   },
   "file_extension": ".py",
   "mimetype": "text/x-python",
   "name": "python",
   "nbconvert_exporter": "python",
   "pygments_lexer": "ipython3",
   "version": "3.5.2"
  }
 },
 "nbformat": 4,
 "nbformat_minor": 1
}
